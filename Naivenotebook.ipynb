{
  "nbformat": 4,
  "nbformat_minor": 0,
  "metadata": {
    "colab": {
      "provenance": [],
      "authorship_tag": "ABX9TyOTnCGCGQc+kyN/AF3wGv/k"
    },
    "kernelspec": {
      "name": "python3",
      "display_name": "Python 3"
    },
    "language_info": {
      "name": "python"
    }
  },
  "cells": [
    {
      "cell_type": "code",
      "execution_count": 1,
      "metadata": {
        "id": "dScohGW45_4r"
      },
      "outputs": [],
      "source": [
        "import tensorflow as tf\n",
        "from tensorflow.keras.datasets import fashion_mnist\n",
        "\n",
        "(train_images, train_labels), (test_images, test_labels) = fashion_mnist.load_data()\n",
        "\n",
        "train_images = tf.cast(train_images, tf.float32) / 255.0\n",
        "test_images = tf.cast(test_images, tf.float32) / 255.0"
      ]
    },
    {
      "cell_type": "code",
      "source": [
        "model = tf.keras.models.Sequential([\n",
        "    tf.keras.layers.Flatten(input_shape=(28, 28)),\n",
        "    tf.keras.layers.Dense(units=256, activation=tf.nn.relu),\n",
        "    tf.keras.layers.Dense(units=128, activation=tf.nn.relu),\n",
        "    tf.keras.layers.Dense(units=10, activation=tf.nn.softmax),\n",
        "])"
      ],
      "metadata": {
        "id": "SFgKm9fl7IG6"
      },
      "execution_count": 2,
      "outputs": []
    },
    {
      "cell_type": "code",
      "source": [
        "model.compile(\n",
        "    optimizer='adam',\n",
        "    loss='SparseCategoricalCrossentropy',\n",
        "    metrics=['accuracy']\n",
        ")"
      ],
      "metadata": {
        "id": "UuIFjtWu7VKL"
      },
      "execution_count": 3,
      "outputs": []
    },
    {
      "cell_type": "code",
      "source": [
        "history = model.fit(train_images, train_labels, validation_data=(test_images, test_labels), epochs=5, verbose=2)"
      ],
      "metadata": {
        "colab": {
          "base_uri": "https://localhost:8080/"
        },
        "id": "ATRXVK-37fnM",
        "outputId": "3d29b841-5040-403b-ecef-670dc04bab07"
      },
      "execution_count": 4,
      "outputs": [
        {
          "output_type": "stream",
          "name": "stdout",
          "text": [
            "Epoch 1/5\n",
            "1875/1875 - 13s - loss: 0.4744 - accuracy: 0.8303 - val_loss: 0.4283 - val_accuracy: 0.8419 - 13s/epoch - 7ms/step\n",
            "Epoch 2/5\n",
            "1875/1875 - 7s - loss: 0.3579 - accuracy: 0.8681 - val_loss: 0.4183 - val_accuracy: 0.8420 - 7s/epoch - 4ms/step\n",
            "Epoch 3/5\n",
            "1875/1875 - 7s - loss: 0.3239 - accuracy: 0.8798 - val_loss: 0.3504 - val_accuracy: 0.8738 - 7s/epoch - 4ms/step\n",
            "Epoch 4/5\n",
            "1875/1875 - 7s - loss: 0.2992 - accuracy: 0.8888 - val_loss: 0.3627 - val_accuracy: 0.8690 - 7s/epoch - 4ms/step\n",
            "Epoch 5/5\n",
            "1875/1875 - 7s - loss: 0.2825 - accuracy: 0.8938 - val_loss: 0.3581 - val_accuracy: 0.8686 - 7s/epoch - 4ms/step\n"
          ]
        }
      ]
    }
  ]
}